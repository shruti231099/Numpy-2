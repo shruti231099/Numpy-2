{
  "nbformat": 4,
  "nbformat_minor": 0,
  "metadata": {
    "colab": {
      "name": "Assignment-6.ipynb",
      "provenance": [],
      "collapsed_sections": []
    },
    "kernelspec": {
      "name": "python3",
      "display_name": "Python 3"
    }
  },
  "cells": [
    {
      "cell_type": "code",
      "metadata": {
        "id": "6PAefYSKHONH",
        "colab_type": "code",
        "colab": {}
      },
      "source": [
        "# You have write a function which takes 2 numpy array as input and returns \"Hoga\" or \"Nahi Hoga\" \n",
        "# depending on if broadcasting is possible on those two arrays"
      ],
      "execution_count": 0,
      "outputs": []
    },
    {
      "cell_type": "code",
      "metadata": {
        "id": "LtPSvg-4HjEv",
        "colab_type": "code",
        "colab": {}
      },
      "source": [
        "# Write your logic here\n",
        "import numpy as np\n",
        "def hoga_ki_nahi(arr1,arr2):\n",
        "    p=arr1.shape\n",
        "    q=arr2.shape\n",
        "    r=arr1.ndim #dimension of arr1\n",
        "    s=arr2.ndim #dimension of arr2\n",
        "    \n",
        "    if r==s:\n",
        "        x=p[0] #no.of rows in arr1\n",
        "        y=p[1] #no. of columns in arr1\n",
        "        m=q[0] #no.of rows in arr2\n",
        "        n=q[1] #no. of columns in arr2\n",
        "        if x==m and y==n:\n",
        "            print(\"hoga\")\n",
        "        elif x==1 and y==n:\n",
        "            print(\"hoga\")\n",
        "        elif y==1 and x==m:\n",
        "            print(\"hoga\")\n",
        "        elif m==1 and n==y:\n",
        "            print(\"hoga\")\n",
        "        elif n==1 and m==x:\n",
        "            print(\"hoga\")\n",
        "        elif x==1 and n==1:\n",
        "                print(\"hoga\")\n",
        "        elif y==1 and m==1:\n",
        "            print(\"hoga\")\n",
        "        elif x==1 and y==1:\n",
        "            print(\"hoga\")\n",
        "        elif m==1 and n==1:\n",
        "            print(\"hoga\")\n",
        "        elif x==1 and y!=n:\n",
        "            print(\"nhi hoga\")\n",
        "        else:\n",
        "            print(\"nhi hoga\")\n",
        "    elif r==1:\n",
        "        x=p[0] #no.of rows in arr1\n",
        "        m=q[0] #no.of rows in arr2\n",
        "        n=q[1] #no. of columns in arr2\n",
        "        if x==n:\n",
        "            print(\"hoga\")\n",
        "        elif x==1:\n",
        "            print(\"hoga\")\n",
        "        else:\n",
        "            print(\"nhi hoga\")\n",
        "    elif s==1:\n",
        "        x=p[0] #no.of rows in arr1\n",
        "        y=p[1] #no. of columns in arr1\n",
        "        m=q[0] #no.of rows in arr2\n",
        "        if y==m:\n",
        "            print(\"hoga\")\n",
        "        elif m==1:\n",
        "            print(\"hoga\")\n",
        "        else:\n",
        "            print(\"nhi hoga\")\n",
        "    else:\n",
        "        x=p[0] #no.of rows in arr1\n",
        "        y=p[1] #no. of columns in arr1\n",
        "        m=q[0] #no.of rows in arr2\n",
        "        n=q[1] #no. of columns in arr2\n",
        "        if y==1 and x==m:\n",
        "            print(\"hoga\")\n",
        "        else:\n",
        "            print(\"nhi hoga\")\n",
        "        \n",
        "    "
      ],
      "execution_count": 0,
      "outputs": []
    },
    {
      "cell_type": "code",
      "metadata": {
        "id": "BGp93pIEHsOG",
        "colab_type": "code",
        "outputId": "d4536ee5-2536-46e9-c7e0-a251e067988f",
        "colab": {
          "base_uri": "https://localhost:8080/",
          "height": 34
        }
      },
      "source": [
        "# Test your function here\n",
        "a=np.ones((3,2))\n",
        "b=np.array([6])\n",
        "hoga_ki_nahi(a,b)\n"
      ],
      "execution_count": 0,
      "outputs": [
        {
          "output_type": "stream",
          "text": [
            "hoga\n"
          ],
          "name": "stdout"
        }
      ]
    },
    {
      "cell_type": "code",
      "metadata": {
        "id": "jz_2U5LRH2xy",
        "colab_type": "code",
        "outputId": "b1ed1ca0-bcbb-490d-8518-0acadcc7fa2b",
        "colab": {
          "base_uri": "https://localhost:8080/",
          "height": 34
        }
      },
      "source": [
        "a=np.ones((3,2))\n",
        "b=np.arange(3)\n",
        "hoga_ki_nahi(a,b)\n"
      ],
      "execution_count": 0,
      "outputs": [
        {
          "output_type": "stream",
          "text": [
            "nhi hoga\n"
          ],
          "name": "stdout"
        }
      ]
    },
    {
      "cell_type": "code",
      "metadata": {
        "id": "OdKIV5TPBC6s",
        "colab_type": "code",
        "colab": {}
      },
      "source": [
        ""
      ],
      "execution_count": 0,
      "outputs": []
    }
  ]
}