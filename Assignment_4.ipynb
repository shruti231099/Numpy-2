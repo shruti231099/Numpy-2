{
  "nbformat": 4,
  "nbformat_minor": 0,
  "metadata": {
    "colab": {
      "name": "Assignment-4.ipynb",
      "provenance": [],
      "collapsed_sections": []
    },
    "kernelspec": {
      "name": "python3",
      "display_name": "Python 3"
    }
  },
  "cells": [
    {
      "cell_type": "code",
      "metadata": {
        "id": "LYAs5f4MUyqX",
        "colab_type": "code",
        "colab": {}
      },
      "source": [
        "import numpy as np"
      ],
      "execution_count": 0,
      "outputs": []
    },
    {
      "cell_type": "code",
      "metadata": {
        "id": "kith96zaU3v4",
        "colab_type": "code",
        "outputId": "b6e047b3-9c95-4a37-98fd-143b3c36ec3d",
        "colab": {
          "base_uri": "https://localhost:8080/",
          "height": 87
        }
      },
      "source": [
        "arr1=np.arange(20).reshape(4,5)\n",
        "arr1"
      ],
      "execution_count": 0,
      "outputs": [
        {
          "output_type": "execute_result",
          "data": {
            "text/plain": [
              "array([[ 0,  1,  2,  3,  4],\n",
              "       [ 5,  6,  7,  8,  9],\n",
              "       [10, 11, 12, 13, 14],\n",
              "       [15, 16, 17, 18, 19]])"
            ]
          },
          "metadata": {
            "tags": []
          },
          "execution_count": 2
        }
      ]
    },
    {
      "cell_type": "code",
      "metadata": {
        "id": "hSQuEs7WVpXk",
        "colab_type": "code",
        "outputId": "f7977566-03e9-422f-fb6d-bb6d7e69b239",
        "colab": {
          "base_uri": "https://localhost:8080/",
          "height": 85
        }
      },
      "source": [
        "# Q1 Write a numpy code to swap col1([0,5,10,15]) with col4([3,8,13,18])\n",
        "# Hint----> Fancy Indexing\n",
        "import numpy as np\n",
        "arr1=np.arange(20).reshape(4,5)\n",
        "arr1[:,[3,1,2,0,4]]\n"
      ],
      "execution_count": 0,
      "outputs": [
        {
          "output_type": "execute_result",
          "data": {
            "text/plain": [
              "array([[ 3,  1,  2,  0,  4],\n",
              "       [ 8,  6,  7,  5,  9],\n",
              "       [13, 11, 12, 10, 14],\n",
              "       [18, 16, 17, 15, 19]])"
            ]
          },
          "metadata": {
            "tags": []
          },
          "execution_count": 1
        }
      ]
    },
    {
      "cell_type": "code",
      "metadata": {
        "id": "qzrMoxJSWOEm",
        "colab_type": "code",
        "outputId": "2144987a-9616-4ab0-89d5-6df0c1baf2f0",
        "colab": {
          "base_uri": "https://localhost:8080/",
          "height": 85
        }
      },
      "source": [
        "# Q2 Write a numpy code to reverse the rows of arr1\n",
        "# The output should be [15, 16, 17, 18, 19] as first row and [ 0,  1,  2,  3,  4] as last row\n",
        "import numpy as np\n",
        "arr1=np.arange(20).reshape(4,5)\n",
        "arr1[[3,1,2,0]]"
      ],
      "execution_count": 0,
      "outputs": [
        {
          "output_type": "execute_result",
          "data": {
            "text/plain": [
              "array([[15, 16, 17, 18, 19],\n",
              "       [ 5,  6,  7,  8,  9],\n",
              "       [10, 11, 12, 13, 14],\n",
              "       [ 0,  1,  2,  3,  4]])"
            ]
          },
          "metadata": {
            "tags": []
          },
          "execution_count": 2
        }
      ]
    },
    {
      "cell_type": "code",
      "metadata": {
        "id": "qU9DW6vQWivF",
        "colab_type": "code",
        "outputId": "3d706bd7-c7aa-4c8e-a6a9-d39df165120b",
        "colab": {
          "base_uri": "https://localhost:8080/",
          "height": 69
        }
      },
      "source": [
        "arr2=np.array([[1,2,np.nan],[4,5,6],[np.nan,np.nan,9]])\n",
        "arr2"
      ],
      "execution_count": 0,
      "outputs": [
        {
          "output_type": "execute_result",
          "data": {
            "text/plain": [
              "array([[ 1.,  2., nan],\n",
              "       [ 4.,  5.,  6.],\n",
              "       [nan, nan,  9.]])"
            ]
          },
          "metadata": {
            "tags": []
          },
          "execution_count": 15
        }
      ]
    },
    {
      "cell_type": "code",
      "metadata": {
        "id": "V9pLugRlXZCV",
        "colab_type": "code",
        "outputId": "536990ab-0649-4135-f79b-b050d88006ec",
        "colab": {
          "base_uri": "https://localhost:8080/",
          "height": 68
        }
      },
      "source": [
        "# Q3 Write a code to replace all the nan(missing values) of arr2 with the mean of arr2\n",
        "import numpy as np\n",
        "arr2=np.array([[1,2,np.nan],[4,5,6],[np.nan,np.nan,9]])\n",
        "arr2[np.isnan(arr2)]=np.nanmean(arr2)\n",
        "arr2\n"
      ],
      "execution_count": 0,
      "outputs": [
        {
          "output_type": "execute_result",
          "data": {
            "text/plain": [
              "array([[1. , 2. , 4.5],\n",
              "       [4. , 5. , 6. ],\n",
              "       [4.5, 4.5, 9. ]])"
            ]
          },
          "metadata": {
            "tags": []
          },
          "execution_count": 3
        }
      ]
    },
    {
      "cell_type": "code",
      "metadata": {
        "id": "F3tUsOivZ6Wf",
        "colab_type": "code",
        "outputId": "7c89d9c3-c3be-4866-d2e9-a3ba8f9c62c8",
        "colab": {
          "base_uri": "https://localhost:8080/",
          "height": 104
        }
      },
      "source": [
        "arr3=np.random.randint(low=1,high=100,size=20).reshape(5,4)\n",
        "arr3"
      ],
      "execution_count": 0,
      "outputs": [
        {
          "output_type": "execute_result",
          "data": {
            "text/plain": [
              "array([[22, 86, 19, 79],\n",
              "       [54, 51, 72, 60],\n",
              "       [ 7, 44, 88, 85],\n",
              "       [25, 85, 33, 66],\n",
              "       [19, 65, 23, 48]])"
            ]
          },
          "metadata": {
            "tags": []
          },
          "execution_count": 17
        }
      ]
    },
    {
      "cell_type": "code",
      "metadata": {
        "id": "HzeC03N6aQpx",
        "colab_type": "code",
        "outputId": "d4017184-688f-4c4d-ec4f-fe9b38c193c3",
        "colab": {
          "base_uri": "https://localhost:8080/",
          "height": 34
        }
      },
      "source": [
        "# Q4 Write a code which can fetch all items from arr3 which are either greater than 25 or a multiple of 3\n",
        "import numpy as np\n",
        "arr3=np.random.randint(low=1,high=100,size=20).reshape(5,4)\n",
        "\n",
        "arr3[(arr3>25) | (arr3%3==0)]\n"
      ],
      "execution_count": 0,
      "outputs": [
        {
          "output_type": "execute_result",
          "data": {
            "text/plain": [
              "array([92, 79, 86, 15, 77, 66, 80,  6, 73, 42, 46, 56, 67])"
            ]
          },
          "metadata": {
            "tags": []
          },
          "execution_count": 6
        }
      ]
    },
    {
      "cell_type": "code",
      "metadata": {
        "id": "PxcxU2ACa9Ri",
        "colab_type": "code",
        "outputId": "022fd3da-0ba2-4d11-8a15-a9099105399f",
        "colab": {
          "base_uri": "https://localhost:8080/",
          "height": 85
        }
      },
      "source": [
        "# Q5 Write a code to find the 10th, 25th, 50th(median) percentile of arr3\n",
        "# Percentiles are a very important concept in Statistics. If you don't know about it refer the video below\n",
        "# https://www.youtube.com/watch?v=Snf6Wpn-L4c\n",
        "# Hint: to solve this function google np.percentile()\n",
        "import numpy as np\n",
        "arr3=np.random.randint(low=1,high=100,size=20).reshape(5,4)\n",
        "print(np.percentile(arr3,10))\n",
        "print(np.percentile(arr3,50))\n",
        "print(np.percentile(arr3,25))\n",
        "print(np.median(arr3))"
      ],
      "execution_count": 0,
      "outputs": [
        {
          "output_type": "stream",
          "text": [
            "7.800000000000001\n",
            "55.0\n",
            "27.5\n",
            "55.0\n"
          ],
          "name": "stdout"
        }
      ]
    },
    {
      "cell_type": "code",
      "metadata": {
        "id": "_8moTHWYcDCt",
        "colab_type": "code",
        "colab": {}
      },
      "source": [
        ""
      ],
      "execution_count": 0,
      "outputs": []
    }
  ]
}