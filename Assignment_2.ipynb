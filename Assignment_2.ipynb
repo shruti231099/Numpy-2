{
  "nbformat": 4,
  "nbformat_minor": 0,
  "metadata": {
    "colab": {
      "name": "Assignment-2.ipynb",
      "provenance": [],
      "collapsed_sections": []
    },
    "kernelspec": {
      "name": "python3",
      "display_name": "Python 3"
    }
  },
  "cells": [
    {
      "cell_type": "markdown",
      "metadata": {
        "id": "KS3wCW3hFavq",
        "colab_type": "text"
      },
      "source": [
        "You have to write 2 functions after watching today's videos.\n",
        "\n",
        "1. The first function will accept a Numpy array and return it's shape.\n",
        "   Note:- You can't use the shape attribute\n",
        "   \n",
        "2. The second function will accept a Numpy array and return it's dimension.\n",
        "   Note:- You can't use the ndim attribute"
      ]
    },
    {
      "cell_type": "code",
      "metadata": {
        "id": "FVX4V9FmF8rt",
        "colab_type": "code",
        "colab": {}
      },
      "source": [
        "# Write 1st function here\n",
        "import numpy as np\n",
        "def shape1(arr1):\n",
        "    L1=[]\n",
        "    x=arr1.ndim\n",
        "    y=arr1.size\n",
        "    m=len(arr1)\n",
        "    z=int(y/x)\n",
        "    if x==1:\n",
        "        L1.extend([m,])\n",
        "        print(L1)\n",
        "    else:\n",
        "        L1.extend([m,z])\n",
        "        print(L1)   "
      ],
      "execution_count": 0,
      "outputs": []
    },
    {
      "cell_type": "code",
      "metadata": {
        "id": "R0KWz8gqGAXW",
        "colab_type": "code",
        "colab": {}
      },
      "source": [
        "# Write 2nd function here\n",
        "import numpy as np\n",
        "def dim(arr1):\n",
        "    m=arr1.shape\n",
        "    n=len(m)\n",
        "    print(n)   "
      ],
      "execution_count": 0,
      "outputs": []
    },
    {
      "cell_type": "code",
      "metadata": {
        "id": "5xmTBXejGDeG",
        "colab_type": "code",
        "colab": {}
      },
      "source": [
        ""
      ],
      "execution_count": 0,
      "outputs": []
    }
  ]
}