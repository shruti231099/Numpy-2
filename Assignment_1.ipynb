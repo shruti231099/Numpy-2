{
  "nbformat": 4,
  "nbformat_minor": 0,
  "metadata": {
    "colab": {
      "name": " Assignment-1.ipynb",
      "provenance": [],
      "collapsed_sections": []
    },
    "kernelspec": {
      "name": "python3",
      "display_name": "Python 3"
    }
  },
  "cells": [
    {
      "cell_type": "code",
      "metadata": {
        "id": "G1iZP-R8dwRs",
        "colab_type": "code",
        "colab": {}
      },
      "source": [
        ""
      ],
      "execution_count": 0,
      "outputs": []
    },
    {
      "cell_type": "code",
      "metadata": {
        "id": "3tpIXYK6yQGX",
        "colab_type": "code",
        "outputId": "66fa55c4-9af5-45dc-ab48-4772dc8b7b62",
        "colab": {
          "base_uri": "https://localhost:8080/",
          "height": 85
        }
      },
      "source": [
        "def ls(p,u,n):\n",
        "    x=((u-p)/(n-1))\n",
        "    list1=[]\n",
        "    for i in range (1,n):\n",
        "        list1.append(p)\n",
        "        p=p+x\n",
        "        \n",
        "        \n",
        "    list1.append(u)\n",
        "    print(list1)\n",
        "\n",
        "\n",
        "\n",
        "x=int(input(\"enter lower limit\"))\n",
        "y=int(input(\"enter upper limit\"))\n",
        "z=int(input(\"no. of elements\"))\n",
        "\n",
        "ls(x,y,z)        \n",
        "    "
      ],
      "execution_count": 0,
      "outputs": [
        {
          "output_type": "stream",
          "text": [
            "enter lower limit1\n",
            "enter upper limit10\n",
            "no. of elements5\n",
            "[1, 3.25, 5.5, 7.75, 10]\n"
          ],
          "name": "stdout"
        }
      ]
    },
    {
      "cell_type": "code",
      "metadata": {
        "id": "L9AYZ_PuCeoq",
        "colab_type": "code",
        "colab": {}
      },
      "source": [
        ""
      ],
      "execution_count": 0,
      "outputs": []
    }
  ]
}